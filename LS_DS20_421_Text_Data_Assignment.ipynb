{
  "nbformat": 4,
  "nbformat_minor": 0,
  "metadata": {
    "colab": {
      "name": "LS_DS20_421_Text_Data_Assignment.ipynb",
      "provenance": [],
      "collapsed_sections": [],
      "include_colab_link": true
    },
    "kernelspec": {
      "display_name": "U4-S1-NLP (Python 3)",
      "language": "python",
      "name": "u4-s1-nlp"
    },
    "language_info": {
      "codemirror_mode": {
        "name": "ipython",
        "version": 3
      },
      "file_extension": ".py",
      "mimetype": "text/x-python",
      "name": "python",
      "nbconvert_exporter": "python",
      "pygments_lexer": "ipython3",
      "version": "3.7.3"
    },
    "toc-autonumbering": false
  },
  "cells": [
    {
      "cell_type": "markdown",
      "metadata": {
        "id": "view-in-github",
        "colab_type": "text"
      },
      "source": [
        "<a href=\"https://colab.research.google.com/github/noahnisbet/DS-Unit-4-Sprint-1-NLP/blob/main/LS_DS20_421_Text_Data_Assignment.ipynb\" target=\"_parent\"><img src=\"https://colab.research.google.com/assets/colab-badge.svg\" alt=\"Open In Colab\"/></a>"
      ]
    },
    {
      "cell_type": "markdown",
      "metadata": {
        "id": "yWWeR3i8X622"
      },
      "source": [
        "<img align=\"left\" src=\"https://lever-client-logos.s3.amazonaws.com/864372b1-534c-480e-acd5-9711f850815c-1524247202159.png\" width=200>\n",
        "<br></br>\n",
        "<br></br>\n",
        "\n",
        "# Natural Language Processing (NLP)\n",
        "## *Data Science Unit 4 Sprint 1 Assignment 1*\n",
        "\n",
        "Your goal in this assignment: find the attributes of the best & worst coffee shops in the dataset. The text is fairly raw: dates in the review, extra words in the `star_rating` column, etc. You'll probably want to clean that stuff up for a better analysis. \n",
        "\n",
        "Analyze the corpus of text using text visualizations of token frequency. Try cleaning the data as much as possible. Try the following techniques: \n",
        "- Lemmatization\n",
        "- Custom stopword removal\n",
        "\n",
        "Keep in mind the attributes of good tokens. Once you have a solid baseline, layer in the star rating in your visualization(s). Key part of this assignment - produce a write-up of the attributes of the best and worst coffee shops. Based on your analysis, what makes the best the best and the worst the worst. Use graphs and numbesr from your analysis to support your conclusions. There should be plenty of markdown cells! :coffee:"
      ]
    },
    {
      "cell_type": "code",
      "metadata": {
        "id": "LURvyZhRX623",
        "colab": {
          "base_uri": "https://localhost:8080/",
          "height": 319
        },
        "outputId": "c4bba778-a6d2-43b5-aa10-2fb80894d4c7"
      },
      "source": [
        "from IPython.display import YouTubeVideo\n",
        "\n",
        "YouTubeVideo('Jml7NVYm8cs')"
      ],
      "execution_count": 31,
      "outputs": [
        {
          "output_type": "execute_result",
          "data": {
            "text/html": [
              "\n",
              "        <iframe\n",
              "            width=\"400\"\n",
              "            height=\"300\"\n",
              "            src=\"https://www.youtube.com/embed/Jml7NVYm8cs\"\n",
              "            frameborder=\"0\"\n",
              "            allowfullscreen\n",
              "        ></iframe>\n",
              "        "
            ],
            "text/plain": [
              "<IPython.lib.display.YouTubeVideo at 0x7f0a1bbc9a58>"
            ],
            "image/jpeg": "[encoded data removed]"
          },
          "metadata": {
            "tags": []
          },
          "execution_count": 31
        }
      ]
    },
    {
      "cell_type": "code",
      "metadata": {
        "id": "RURn1Xf8X624",
        "colab": {
          "base_uri": "https://localhost:8080/",
          "height": 34
        },
        "outputId": "06197015-45e2-403f-df6e-cbfc4ba618c9"
      },
      "source": [
        "%pwd"
      ],
      "execution_count": 32,
      "outputs": [
        {
          "output_type": "execute_result",
          "data": {
            "application/vnd.google.colaboratory.intrinsic+json": {
              "type": "string"
            },
            "text/plain": [
              "'/content'"
            ]
          },
          "metadata": {
            "tags": []
          },
          "execution_count": 32
        }
      ]
    },
    {
      "cell_type": "code",
      "metadata": {
        "id": "kGI-jjQTX624",
        "colab": {
          "base_uri": "https://localhost:8080/",
          "height": 568
        },
        "outputId": "8a49ef00-e10f-48d6-e642-bb5125ecf9b4"
      },
      "source": [
        "import pandas as pd\n",
        "import spacy\n",
        "!python -m spacy download en_core_web_lg\n",
        "\n",
        "url = \"https://raw.githubusercontent.com/LambdaSchool/DS-Unit-4-Sprint-1-NLP/main/module1-text-data/data/yelp_coffeeshop_review_data.csv\"\n",
        "\n",
        "shops = pd.read_csv(url)\n",
        "shops.head()"
      ],
      "execution_count": 33,
      "outputs": [
        {
          "output_type": "stream",
          "text": [
            "Requirement already satisfied: en_core_web_lg==2.2.5 from https://github.com/explosion/spacy-models/releases/download/en_core_web_lg-2.2.5/en_core_web_lg-2.2.5.tar.gz#egg=en_core_web_lg==2.2.5 in /usr/local/lib/python3.6/dist-packages (2.2.5)\n",
            "Requirement already satisfied: spacy>=2.2.2 in /usr/local/lib/python3.6/dist-packages (from en_core_web_lg==2.2.5) (2.2.4)\n",
            "Requirement already satisfied: cymem<2.1.0,>=2.0.2 in /usr/local/lib/python3.6/dist-packages (from spacy>=2.2.2->en_core_web_lg==2.2.5) (2.0.4)\n",
            "Requirement already satisfied: thinc==7.4.0 in /usr/local/lib/python3.6/dist-packages (from spacy>=2.2.2->en_core_web_lg==2.2.5) (7.4.0)\n",
            "Requirement already satisfied: blis<0.5.0,>=0.4.0 in /usr/local/lib/python3.6/dist-packages (from spacy>=2.2.2->en_core_web_lg==2.2.5) (0.4.1)\n",
            "Requirement already satisfied: tqdm<5.0.0,>=4.38.0 in /usr/local/lib/python3.6/dist-packages (from spacy>=2.2.2->en_core_web_lg==2.2.5) (4.41.1)\n",
            "Requirement already satisfied: catalogue<1.1.0,>=0.0.7 in /usr/local/lib/python3.6/dist-packages (from spacy>=2.2.2->en_core_web_lg==2.2.5) (1.0.0)\n",
            "Requirement already satisfied: numpy>=1.15.0 in /usr/local/lib/python3.6/dist-packages (from spacy>=2.2.2->en_core_web_lg==2.2.5) (1.18.5)\n",
            "Requirement already satisfied: srsly<1.1.0,>=1.0.2 in /usr/local/lib/python3.6/dist-packages (from spacy>=2.2.2->en_core_web_lg==2.2.5) (1.0.4)\n",
            "Requirement already satisfied: wasabi<1.1.0,>=0.4.0 in /usr/local/lib/python3.6/dist-packages (from spacy>=2.2.2->en_core_web_lg==2.2.5) (0.8.0)\n",
            "Requirement already satisfied: preshed<3.1.0,>=3.0.2 in /usr/local/lib/python3.6/dist-packages (from spacy>=2.2.2->en_core_web_lg==2.2.5) (3.0.4)\n",
            "Requirement already satisfied: setuptools in /usr/local/lib/python3.6/dist-packages (from spacy>=2.2.2->en_core_web_lg==2.2.5) (50.3.2)\n",
            "Requirement already satisfied: requests<3.0.0,>=2.13.0 in /usr/local/lib/python3.6/dist-packages (from spacy>=2.2.2->en_core_web_lg==2.2.5) (2.23.0)\n",
            "Requirement already satisfied: murmurhash<1.1.0,>=0.28.0 in /usr/local/lib/python3.6/dist-packages (from spacy>=2.2.2->en_core_web_lg==2.2.5) (1.0.4)\n",
            "Requirement already satisfied: plac<1.2.0,>=0.9.6 in /usr/local/lib/python3.6/dist-packages (from spacy>=2.2.2->en_core_web_lg==2.2.5) (1.1.3)\n",
            "Requirement already satisfied: importlib-metadata>=0.20; python_version < \"3.8\" in /usr/local/lib/python3.6/dist-packages (from catalogue<1.1.0,>=0.0.7->spacy>=2.2.2->en_core_web_lg==2.2.5) (2.0.0)\n",
            "Requirement already satisfied: urllib3!=1.25.0,!=1.25.1,<1.26,>=1.21.1 in /usr/local/lib/python3.6/dist-packages (from requests<3.0.0,>=2.13.0->spacy>=2.2.2->en_core_web_lg==2.2.5) (1.24.3)\n",
            "Requirement already satisfied: chardet<4,>=3.0.2 in /usr/local/lib/python3.6/dist-packages (from requests<3.0.0,>=2.13.0->spacy>=2.2.2->en_core_web_lg==2.2.5) (3.0.4)\n",
            "Requirement already satisfied: certifi>=2017.4.17 in /usr/local/lib/python3.6/dist-packages (from requests<3.0.0,>=2.13.0->spacy>=2.2.2->en_core_web_lg==2.2.5) (2020.11.8)\n",
            "Requirement already satisfied: idna<3,>=2.5 in /usr/local/lib/python3.6/dist-packages (from requests<3.0.0,>=2.13.0->spacy>=2.2.2->en_core_web_lg==2.2.5) (2.10)\n",
            "Requirement already satisfied: zipp>=0.5 in /usr/local/lib/python3.6/dist-packages (from importlib-metadata>=0.20; python_version < \"3.8\"->catalogue<1.1.0,>=0.0.7->spacy>=2.2.2->en_core_web_lg==2.2.5) (3.4.0)\n",
            "\u001b[38;5;2m✔ Download and installation successful\u001b[0m\n",
            "You can now load the model via spacy.load('en_core_web_lg')\n"
          ],
          "name": "stdout"
        },
        {
          "output_type": "execute_result",
          "data": {
            "text/html": [
              "<div>\n",
              "<style scoped>\n",
              "    .dataframe tbody tr th:only-of-type {\n",
              "        vertical-align: middle;\n",
              "    }\n",
              "\n",
              "    .dataframe tbody tr th {\n",
              "        vertical-align: top;\n",
              "    }\n",
              "\n",
              "    .dataframe thead th {\n",
              "        text-align: right;\n",
              "    }\n",
              "</style>\n",
              "<table border=\"1\" class=\"dataframe\">\n",
              "  <thead>\n",
              "    <tr style=\"text-align: right;\">\n",
              "      <th></th>\n",
              "      <th>coffee_shop_name</th>\n",
              "      <th>full_review_text</th>\n",
              "      <th>star_rating</th>\n",
              "    </tr>\n",
              "  </thead>\n",
              "  <tbody>\n",
              "    <tr>\n",
              "      <th>0</th>\n",
              "      <td>The Factory - Cafe With a Soul</td>\n",
              "      <td>11/25/2016 1 check-in Love love loved the atm...</td>\n",
              "      <td>5.0 star rating</td>\n",
              "    </tr>\n",
              "    <tr>\n",
              "      <th>1</th>\n",
              "      <td>The Factory - Cafe With a Soul</td>\n",
              "      <td>12/2/2016 Listed in Date Night: Austin, Ambia...</td>\n",
              "      <td>4.0 star rating</td>\n",
              "    </tr>\n",
              "    <tr>\n",
              "      <th>2</th>\n",
              "      <td>The Factory - Cafe With a Soul</td>\n",
              "      <td>11/30/2016 1 check-in Listed in Brunch Spots ...</td>\n",
              "      <td>4.0 star rating</td>\n",
              "    </tr>\n",
              "    <tr>\n",
              "      <th>3</th>\n",
              "      <td>The Factory - Cafe With a Soul</td>\n",
              "      <td>11/25/2016 Very cool decor! Good drinks Nice ...</td>\n",
              "      <td>2.0 star rating</td>\n",
              "    </tr>\n",
              "    <tr>\n",
              "      <th>4</th>\n",
              "      <td>The Factory - Cafe With a Soul</td>\n",
              "      <td>12/3/2016 1 check-in They are located within ...</td>\n",
              "      <td>4.0 star rating</td>\n",
              "    </tr>\n",
              "  </tbody>\n",
              "</table>\n",
              "</div>"
            ],
            "text/plain": [
              "                  coffee_shop_name  ...        star_rating\n",
              "0  The Factory - Cafe With a Soul   ...   5.0 star rating \n",
              "1  The Factory - Cafe With a Soul   ...   4.0 star rating \n",
              "2  The Factory - Cafe With a Soul   ...   4.0 star rating \n",
              "3  The Factory - Cafe With a Soul   ...   2.0 star rating \n",
              "4  The Factory - Cafe With a Soul   ...   4.0 star rating \n",
              "\n",
              "[5 rows x 3 columns]"
            ]
          },
          "metadata": {
            "tags": []
          },
          "execution_count": 33
        }
      ]
    },
    {
      "cell_type": "code",
      "metadata": {
        "id": "QkZzjzT3X624"
      },
      "source": [
        "# Start here "
      ],
      "execution_count": 34,
      "outputs": []
    },
    {
      "cell_type": "code",
      "metadata": {
        "id": "2DPj3SmSn9eZ"
      },
      "source": [
        "nlp = spacy.load('en_core_web_lg')"
      ],
      "execution_count": 35,
      "outputs": []
    },
    {
      "cell_type": "code",
      "metadata": {
        "id": "V2z5xIu1n6V5"
      },
      "source": [
        "STOP_WORDS = nlp.Defaults.stop_words"
      ],
      "execution_count": 53,
      "outputs": []
    },
    {
      "cell_type": "code",
      "metadata": {
        "id": "e6SvhTw0Va8R"
      },
      "source": [
        "import re\n",
        "\n",
        "def tokenize(text):\n",
        "    \"\"\"Parses a string into a list of semantic units (words)\n",
        "\n",
        "    Args:\n",
        "        text (str): The string that the function will tokenize.\n",
        "\n",
        "    Returns:\n",
        "        list: tokens parsed out by the mechanics of your choice\n",
        "    \"\"\"\n",
        "    \n",
        "    # remove non-alphaunmeric\n",
        "    text = re.sub('(?:(?:[0-9]{2}[:\\/,]){2}[0-9]{2,4})', '', text)\n",
        "    text = re.sub('(?:(?:[0-9]{2}[:\\/,])[0-9][:\\/,][0-9]{2,4})', '', text)\n",
        "    text = re.sub('(?:(?:[0-9][:\\/,])[0-9]{2}[:\\/,][0-9]{2,4})', '', text)\n",
        "    text = re.sub('(?:(?:[0-9][:\\/,])[0-9][:\\/,][0-9]{2,4})', '', text)\n",
        "\n",
        "    text = re.sub('[^a-zA-Z 0-9]', '', text)\n",
        "    \n",
        "    # make all text lower case\n",
        "    text = text.lower()\n",
        "    # split into tokens using whitespaces \n",
        "    tokens = text.split(\" \")\n",
        "    \n",
        "    return tokens\n",
        "\n",
        "def to_number(text):\n",
        "  text = re.sub('[A-Z]*[a-z]*', '', text)\n",
        "  text = re.sub(' ', '', text)\n",
        "  text = float(text)\n",
        "  return text\n"
      ],
      "execution_count": 37,
      "outputs": []
    },
    {
      "cell_type": "code",
      "metadata": {
        "id": "VLw-8CafU33r"
      },
      "source": [
        "shops['tokens'] = shops['full_review_text'].apply(tokenize)\n"
      ],
      "execution_count": 38,
      "outputs": []
    },
    {
      "cell_type": "code",
      "metadata": {
        "id": "TTenepVHeBO4"
      },
      "source": [
        "shops['rating'] = shops['star_rating'].apply(to_number)"
      ],
      "execution_count": 39,
      "outputs": []
    },
    {
      "cell_type": "code",
      "metadata": {
        "colab": {
          "base_uri": "https://localhost:8080/"
        },
        "id": "QaYDWTaLVgdh",
        "outputId": "dc104492-4c93-4008-a4be-e12cbdced566"
      },
      "source": [
        "shops['rating'][0]"
      ],
      "execution_count": 40,
      "outputs": [
        {
          "output_type": "execute_result",
          "data": {
            "text/plain": [
              "5.0"
            ]
          },
          "metadata": {
            "tags": []
          },
          "execution_count": 40
        }
      ]
    },
    {
      "cell_type": "code",
      "metadata": {
        "colab": {
          "base_uri": "https://localhost:8080/"
        },
        "id": "nu1E5I9cfMwQ",
        "outputId": "06e0fee0-de55-4c1a-ff4a-f21d806635ff"
      },
      "source": [
        "shops['tokens']"
      ],
      "execution_count": 41,
      "outputs": [
        {
          "output_type": "execute_result",
          "data": {
            "text/plain": [
              "0       [, , 1, checkin, love, love, loved, the, atmos...\n",
              "1       [, , listed, in, date, night, austin, ambiance...\n",
              "2       [, , 1, checkin, listed, in, brunch, spots, i,...\n",
              "3       [, , very, cool, decor, good, drinks, nice, se...\n",
              "4       [, , 1, checkin, they, are, located, within, t...\n",
              "                              ...                        \n",
              "7611    [, , i, actually, step, into, this, restaurant...\n",
              "7612    [, , ok, the, steeping, room, is, awesome, how...\n",
              "7613    [, , loved, coming, here, for, tea, and, the, ...\n",
              "7614    [, , the, food, is, just, average, the, booths...\n",
              "7615    [, , i, finally, stopped, in, for, lunch, with...\n",
              "Name: tokens, Length: 7616, dtype: object"
            ]
          },
          "metadata": {
            "tags": []
          },
          "execution_count": 41
        }
      ]
    },
    {
      "cell_type": "code",
      "metadata": {
        "id": "jEQcIH_lpBr5"
      },
      "source": [
        "tokens = []\n",
        "\n",
        "\"\"\" Update those tokens w/o stopwords\"\"\"\n",
        "for item in shops['tokens']:\n",
        "\n",
        "  doc_tokens = []\n",
        "\n",
        "  for token in item:\n",
        "    if ((token not in (STOP_WORDS)) & (token != '')):\n",
        "      doc_tokens.append(token)\n",
        "\n",
        "  tokens.append(doc_tokens)\n",
        "\n",
        "shops['tokens2'] = tokens"
      ],
      "execution_count": 88,
      "outputs": []
    },
    {
      "cell_type": "code",
      "metadata": {
        "colab": {
          "base_uri": "https://localhost:8080/",
          "height": 388
        },
        "id": "lLgIxr5RrYAw",
        "outputId": "7617a590-7557-4d7a-b75e-4650d9ac020c"
      },
      "source": [
        "shops"
      ],
      "execution_count": 89,
      "outputs": [
        {
          "output_type": "execute_result",
          "data": {
            "text/html": [
              "<div>\n",
              "<style scoped>\n",
              "    .dataframe tbody tr th:only-of-type {\n",
              "        vertical-align: middle;\n",
              "    }\n",
              "\n",
              "    .dataframe tbody tr th {\n",
              "        vertical-align: top;\n",
              "    }\n",
              "\n",
              "    .dataframe thead th {\n",
              "        text-align: right;\n",
              "    }\n",
              "</style>\n",
              "<table border=\"1\" class=\"dataframe\">\n",
              "  <thead>\n",
              "    <tr style=\"text-align: right;\">\n",
              "      <th></th>\n",
              "      <th>coffee_shop_name</th>\n",
              "      <th>full_review_text</th>\n",
              "      <th>star_rating</th>\n",
              "      <th>tokens</th>\n",
              "      <th>rating</th>\n",
              "      <th>tokens2</th>\n",
              "      <th>word_count</th>\n",
              "    </tr>\n",
              "  </thead>\n",
              "  <tbody>\n",
              "    <tr>\n",
              "      <th>0</th>\n",
              "      <td>The Factory - Cafe With a Soul</td>\n",
              "      <td>11/25/2016 1 check-in Love love loved the atm...</td>\n",
              "      <td>5.0 star rating</td>\n",
              "      <td>[, , 1, checkin, love, love, loved, the, atmos...</td>\n",
              "      <td>5.0</td>\n",
              "      <td>[1, checkin, love, love, loved, atmosphere, co...</td>\n",
              "      <td>None</td>\n",
              "    </tr>\n",
              "    <tr>\n",
              "      <th>1</th>\n",
              "      <td>The Factory - Cafe With a Soul</td>\n",
              "      <td>12/2/2016 Listed in Date Night: Austin, Ambia...</td>\n",
              "      <td>4.0 star rating</td>\n",
              "      <td>[, , listed, in, date, night, austin, ambiance...</td>\n",
              "      <td>4.0</td>\n",
              "      <td>[listed, date, night, austin, ambiance, austin...</td>\n",
              "      <td>None</td>\n",
              "    </tr>\n",
              "    <tr>\n",
              "      <th>2</th>\n",
              "      <td>The Factory - Cafe With a Soul</td>\n",
              "      <td>11/30/2016 1 check-in Listed in Brunch Spots ...</td>\n",
              "      <td>4.0 star rating</td>\n",
              "      <td>[, , 1, checkin, listed, in, brunch, spots, i,...</td>\n",
              "      <td>4.0</td>\n",
              "      <td>[1, checkin, listed, brunch, spots, loved, ecl...</td>\n",
              "      <td>None</td>\n",
              "    </tr>\n",
              "    <tr>\n",
              "      <th>3</th>\n",
              "      <td>The Factory - Cafe With a Soul</td>\n",
              "      <td>11/25/2016 Very cool decor! Good drinks Nice ...</td>\n",
              "      <td>2.0 star rating</td>\n",
              "      <td>[, , very, cool, decor, good, drinks, nice, se...</td>\n",
              "      <td>2.0</td>\n",
              "      <td>[cool, decor, good, drinks, nice, seating, ove...</td>\n",
              "      <td>None</td>\n",
              "    </tr>\n",
              "    <tr>\n",
              "      <th>4</th>\n",
              "      <td>The Factory - Cafe With a Soul</td>\n",
              "      <td>12/3/2016 1 check-in They are located within ...</td>\n",
              "      <td>4.0 star rating</td>\n",
              "      <td>[, , 1, checkin, they, are, located, within, t...</td>\n",
              "      <td>4.0</td>\n",
              "      <td>[1, checkin, located, northcross, mall, shoppi...</td>\n",
              "      <td>None</td>\n",
              "    </tr>\n",
              "    <tr>\n",
              "      <th>...</th>\n",
              "      <td>...</td>\n",
              "      <td>...</td>\n",
              "      <td>...</td>\n",
              "      <td>...</td>\n",
              "      <td>...</td>\n",
              "      <td>...</td>\n",
              "      <td>...</td>\n",
              "    </tr>\n",
              "    <tr>\n",
              "      <th>7611</th>\n",
              "      <td>The Steeping Room</td>\n",
              "      <td>2/19/2015 I actually step into this restauran...</td>\n",
              "      <td>4.0 star rating</td>\n",
              "      <td>[, , i, actually, step, into, this, restaurant...</td>\n",
              "      <td>4.0</td>\n",
              "      <td>[actually, step, restaurant, chance, favorites...</td>\n",
              "      <td>None</td>\n",
              "    </tr>\n",
              "    <tr>\n",
              "      <th>7612</th>\n",
              "      <td>The Steeping Room</td>\n",
              "      <td>1/21/2016 Ok, The Steeping Room IS awesome. H...</td>\n",
              "      <td>5.0 star rating</td>\n",
              "      <td>[, , ok, the, steeping, room, is, awesome, how...</td>\n",
              "      <td>5.0</td>\n",
              "      <td>[ok, steeping, room, awesome, great, menu, ite...</td>\n",
              "      <td>None</td>\n",
              "    </tr>\n",
              "    <tr>\n",
              "      <th>7613</th>\n",
              "      <td>The Steeping Room</td>\n",
              "      <td>4/30/2015 Loved coming here for tea, and the ...</td>\n",
              "      <td>4.0 star rating</td>\n",
              "      <td>[, , loved, coming, here, for, tea, and, the, ...</td>\n",
              "      <td>4.0</td>\n",
              "      <td>[loved, coming, tea, atmosphere, pretty, fresh...</td>\n",
              "      <td>None</td>\n",
              "    </tr>\n",
              "    <tr>\n",
              "      <th>7614</th>\n",
              "      <td>The Steeping Room</td>\n",
              "      <td>8/2/2015 The food is just average. The booths...</td>\n",
              "      <td>3.0 star rating</td>\n",
              "      <td>[, , the, food, is, just, average, the, booths...</td>\n",
              "      <td>3.0</td>\n",
              "      <td>[food, average, booths, didnt, feel, clean, wa...</td>\n",
              "      <td>None</td>\n",
              "    </tr>\n",
              "    <tr>\n",
              "      <th>7615</th>\n",
              "      <td>The Steeping Room</td>\n",
              "      <td>5/23/2015 I finally stopped in for lunch with...</td>\n",
              "      <td>4.0 star rating</td>\n",
              "      <td>[, , i, finally, stopped, in, for, lunch, with...</td>\n",
              "      <td>4.0</td>\n",
              "      <td>[finally, stopped, lunch, colleague, im, glad,...</td>\n",
              "      <td>None</td>\n",
              "    </tr>\n",
              "  </tbody>\n",
              "</table>\n",
              "<p>7616 rows × 7 columns</p>\n",
              "</div>"
            ],
            "text/plain": [
              "                     coffee_shop_name  ... word_count\n",
              "0     The Factory - Cafe With a Soul   ...       None\n",
              "1     The Factory - Cafe With a Soul   ...       None\n",
              "2     The Factory - Cafe With a Soul   ...       None\n",
              "3     The Factory - Cafe With a Soul   ...       None\n",
              "4     The Factory - Cafe With a Soul   ...       None\n",
              "...                               ...  ...        ...\n",
              "7611               The Steeping Room   ...       None\n",
              "7612               The Steeping Room   ...       None\n",
              "7613               The Steeping Room   ...       None\n",
              "7614               The Steeping Room   ...       None\n",
              "7615               The Steeping Room   ...       None\n",
              "\n",
              "[7616 rows x 7 columns]"
            ]
          },
          "metadata": {
            "tags": []
          },
          "execution_count": 89
        }
      ]
    },
    {
      "cell_type": "code",
      "metadata": {
        "colab": {
          "base_uri": "https://localhost:8080/"
        },
        "id": "Exif_qYSi3Xr",
        "outputId": "700c08ad-05f8-48bb-8e7e-cf6d4ea26e2f"
      },
      "source": [
        "# Object from Base Python\n",
        "from collections import Counter\n",
        "\n",
        "# The object `Counter` takes an iterable, but you can instaniate an empty one and update it. \n",
        "word_counts = Counter()\n",
        "\n",
        "# Update it based on a split of each of our documents\n",
        "shops[\"word_count\"] = shops['tokens2'].apply(lambda tokens: word_counts.update(tokens))\n",
        "\n",
        "# Print out the 10 most common words\n",
        "word_counts.most_common(10)"
      ],
      "execution_count": 90,
      "outputs": [
        {
          "output_type": "execute_result",
          "data": {
            "text/plain": [
              "[('coffee', 10353),\n",
              " ('place', 5426),\n",
              " ('good', 3973),\n",
              " ('great', 3919),\n",
              " ('like', 3088),\n",
              " ('austin', 2252),\n",
              " ('1', 2232),\n",
              " ('checkin', 1966),\n",
              " ('love', 1935),\n",
              " ('time', 1884)]"
            ]
          },
          "metadata": {
            "tags": []
          },
          "execution_count": 90
        }
      ]
    },
    {
      "cell_type": "code",
      "metadata": {
        "id": "fpxpGKugu7qH"
      },
      "source": [
        "good_mask = shops['rating'] > 3.0\n",
        "\n",
        "good_reviews = shops[good_mask]"
      ],
      "execution_count": 91,
      "outputs": []
    },
    {
      "cell_type": "code",
      "metadata": {
        "colab": {
          "base_uri": "https://localhost:8080/",
          "height": 388
        },
        "id": "TuB-tP21vJn_",
        "outputId": "40e0ccd2-e3e2-46b0-f7d7-4a653f95010d"
      },
      "source": [
        "good_reviews"
      ],
      "execution_count": 92,
      "outputs": [
        {
          "output_type": "execute_result",
          "data": {
            "text/html": [
              "<div>\n",
              "<style scoped>\n",
              "    .dataframe tbody tr th:only-of-type {\n",
              "        vertical-align: middle;\n",
              "    }\n",
              "\n",
              "    .dataframe tbody tr th {\n",
              "        vertical-align: top;\n",
              "    }\n",
              "\n",
              "    .dataframe thead th {\n",
              "        text-align: right;\n",
              "    }\n",
              "</style>\n",
              "<table border=\"1\" class=\"dataframe\">\n",
              "  <thead>\n",
              "    <tr style=\"text-align: right;\">\n",
              "      <th></th>\n",
              "      <th>coffee_shop_name</th>\n",
              "      <th>full_review_text</th>\n",
              "      <th>star_rating</th>\n",
              "      <th>tokens</th>\n",
              "      <th>rating</th>\n",
              "      <th>tokens2</th>\n",
              "      <th>word_count</th>\n",
              "    </tr>\n",
              "  </thead>\n",
              "  <tbody>\n",
              "    <tr>\n",
              "      <th>0</th>\n",
              "      <td>The Factory - Cafe With a Soul</td>\n",
              "      <td>11/25/2016 1 check-in Love love loved the atm...</td>\n",
              "      <td>5.0 star rating</td>\n",
              "      <td>[, , 1, checkin, love, love, loved, the, atmos...</td>\n",
              "      <td>5.0</td>\n",
              "      <td>[1, checkin, love, love, loved, atmosphere, co...</td>\n",
              "      <td>None</td>\n",
              "    </tr>\n",
              "    <tr>\n",
              "      <th>1</th>\n",
              "      <td>The Factory - Cafe With a Soul</td>\n",
              "      <td>12/2/2016 Listed in Date Night: Austin, Ambia...</td>\n",
              "      <td>4.0 star rating</td>\n",
              "      <td>[, , listed, in, date, night, austin, ambiance...</td>\n",
              "      <td>4.0</td>\n",
              "      <td>[listed, date, night, austin, ambiance, austin...</td>\n",
              "      <td>None</td>\n",
              "    </tr>\n",
              "    <tr>\n",
              "      <th>2</th>\n",
              "      <td>The Factory - Cafe With a Soul</td>\n",
              "      <td>11/30/2016 1 check-in Listed in Brunch Spots ...</td>\n",
              "      <td>4.0 star rating</td>\n",
              "      <td>[, , 1, checkin, listed, in, brunch, spots, i,...</td>\n",
              "      <td>4.0</td>\n",
              "      <td>[1, checkin, listed, brunch, spots, loved, ecl...</td>\n",
              "      <td>None</td>\n",
              "    </tr>\n",
              "    <tr>\n",
              "      <th>4</th>\n",
              "      <td>The Factory - Cafe With a Soul</td>\n",
              "      <td>12/3/2016 1 check-in They are located within ...</td>\n",
              "      <td>4.0 star rating</td>\n",
              "      <td>[, , 1, checkin, they, are, located, within, t...</td>\n",
              "      <td>4.0</td>\n",
              "      <td>[1, checkin, located, northcross, mall, shoppi...</td>\n",
              "      <td>None</td>\n",
              "    </tr>\n",
              "    <tr>\n",
              "      <th>5</th>\n",
              "      <td>The Factory - Cafe With a Soul</td>\n",
              "      <td>11/20/2016 1 check-in Very cute cafe! I think...</td>\n",
              "      <td>4.0 star rating</td>\n",
              "      <td>[, , 1, checkin, very, cute, cafe, i, think, f...</td>\n",
              "      <td>4.0</td>\n",
              "      <td>[1, checkin, cute, cafe, think, moment, steppe...</td>\n",
              "      <td>None</td>\n",
              "    </tr>\n",
              "    <tr>\n",
              "      <th>...</th>\n",
              "      <td>...</td>\n",
              "      <td>...</td>\n",
              "      <td>...</td>\n",
              "      <td>...</td>\n",
              "      <td>...</td>\n",
              "      <td>...</td>\n",
              "      <td>...</td>\n",
              "    </tr>\n",
              "    <tr>\n",
              "      <th>7610</th>\n",
              "      <td>The Steeping Room</td>\n",
              "      <td>3/1/2016 Great food! I haven't had a meal I d...</td>\n",
              "      <td>5.0 star rating</td>\n",
              "      <td>[, , great, food, i, havent, had, a, meal, i, ...</td>\n",
              "      <td>5.0</td>\n",
              "      <td>[great, food, havent, meal, enjoy, clean, grea...</td>\n",
              "      <td>None</td>\n",
              "    </tr>\n",
              "    <tr>\n",
              "      <th>7611</th>\n",
              "      <td>The Steeping Room</td>\n",
              "      <td>2/19/2015 I actually step into this restauran...</td>\n",
              "      <td>4.0 star rating</td>\n",
              "      <td>[, , i, actually, step, into, this, restaurant...</td>\n",
              "      <td>4.0</td>\n",
              "      <td>[actually, step, restaurant, chance, favorites...</td>\n",
              "      <td>None</td>\n",
              "    </tr>\n",
              "    <tr>\n",
              "      <th>7612</th>\n",
              "      <td>The Steeping Room</td>\n",
              "      <td>1/21/2016 Ok, The Steeping Room IS awesome. H...</td>\n",
              "      <td>5.0 star rating</td>\n",
              "      <td>[, , ok, the, steeping, room, is, awesome, how...</td>\n",
              "      <td>5.0</td>\n",
              "      <td>[ok, steeping, room, awesome, great, menu, ite...</td>\n",
              "      <td>None</td>\n",
              "    </tr>\n",
              "    <tr>\n",
              "      <th>7613</th>\n",
              "      <td>The Steeping Room</td>\n",
              "      <td>4/30/2015 Loved coming here for tea, and the ...</td>\n",
              "      <td>4.0 star rating</td>\n",
              "      <td>[, , loved, coming, here, for, tea, and, the, ...</td>\n",
              "      <td>4.0</td>\n",
              "      <td>[loved, coming, tea, atmosphere, pretty, fresh...</td>\n",
              "      <td>None</td>\n",
              "    </tr>\n",
              "    <tr>\n",
              "      <th>7615</th>\n",
              "      <td>The Steeping Room</td>\n",
              "      <td>5/23/2015 I finally stopped in for lunch with...</td>\n",
              "      <td>4.0 star rating</td>\n",
              "      <td>[, , i, finally, stopped, in, for, lunch, with...</td>\n",
              "      <td>4.0</td>\n",
              "      <td>[finally, stopped, lunch, colleague, im, glad,...</td>\n",
              "      <td>None</td>\n",
              "    </tr>\n",
              "  </tbody>\n",
              "</table>\n",
              "<p>6140 rows × 7 columns</p>\n",
              "</div>"
            ],
            "text/plain": [
              "                     coffee_shop_name  ... word_count\n",
              "0     The Factory - Cafe With a Soul   ...       None\n",
              "1     The Factory - Cafe With a Soul   ...       None\n",
              "2     The Factory - Cafe With a Soul   ...       None\n",
              "4     The Factory - Cafe With a Soul   ...       None\n",
              "5     The Factory - Cafe With a Soul   ...       None\n",
              "...                               ...  ...        ...\n",
              "7610               The Steeping Room   ...       None\n",
              "7611               The Steeping Room   ...       None\n",
              "7612               The Steeping Room   ...       None\n",
              "7613               The Steeping Room   ...       None\n",
              "7615               The Steeping Room   ...       None\n",
              "\n",
              "[6140 rows x 7 columns]"
            ]
          },
          "metadata": {
            "tags": []
          },
          "execution_count": 92
        }
      ]
    },
    {
      "cell_type": "code",
      "metadata": {
        "id": "aAuQKY2VvL9f"
      },
      "source": [
        "bad_mask = shops['rating'] < 4.0\n",
        "\n",
        "bad_reviews = shops[bad_mask]"
      ],
      "execution_count": 93,
      "outputs": []
    },
    {
      "cell_type": "code",
      "metadata": {
        "colab": {
          "base_uri": "https://localhost:8080/",
          "height": 388
        },
        "id": "8C5JHa33vNzO",
        "outputId": "aa8fb40c-e512-440d-fefb-685357a80778"
      },
      "source": [
        "bad_reviews"
      ],
      "execution_count": 94,
      "outputs": [
        {
          "output_type": "execute_result",
          "data": {
            "text/html": [
              "<div>\n",
              "<style scoped>\n",
              "    .dataframe tbody tr th:only-of-type {\n",
              "        vertical-align: middle;\n",
              "    }\n",
              "\n",
              "    .dataframe tbody tr th {\n",
              "        vertical-align: top;\n",
              "    }\n",
              "\n",
              "    .dataframe thead th {\n",
              "        text-align: right;\n",
              "    }\n",
              "</style>\n",
              "<table border=\"1\" class=\"dataframe\">\n",
              "  <thead>\n",
              "    <tr style=\"text-align: right;\">\n",
              "      <th></th>\n",
              "      <th>coffee_shop_name</th>\n",
              "      <th>full_review_text</th>\n",
              "      <th>star_rating</th>\n",
              "      <th>tokens</th>\n",
              "      <th>rating</th>\n",
              "      <th>tokens2</th>\n",
              "      <th>word_count</th>\n",
              "    </tr>\n",
              "  </thead>\n",
              "  <tbody>\n",
              "    <tr>\n",
              "      <th>3</th>\n",
              "      <td>The Factory - Cafe With a Soul</td>\n",
              "      <td>11/25/2016 Very cool decor! Good drinks Nice ...</td>\n",
              "      <td>2.0 star rating</td>\n",
              "      <td>[, , very, cool, decor, good, drinks, nice, se...</td>\n",
              "      <td>2.0</td>\n",
              "      <td>[cool, decor, good, drinks, nice, seating, ove...</td>\n",
              "      <td>None</td>\n",
              "    </tr>\n",
              "    <tr>\n",
              "      <th>8</th>\n",
              "      <td>The Factory - Cafe With a Soul</td>\n",
              "      <td>10/25/2016 1 check-in Ok, let's try this appr...</td>\n",
              "      <td>3.0 star rating</td>\n",
              "      <td>[, , 1, checkin, ok, lets, try, this, approach...</td>\n",
              "      <td>3.0</td>\n",
              "      <td>[1, checkin, ok, lets, try, approach, pros, mu...</td>\n",
              "      <td>None</td>\n",
              "    </tr>\n",
              "    <tr>\n",
              "      <th>11</th>\n",
              "      <td>The Factory - Cafe With a Soul</td>\n",
              "      <td>11/20/2016 The store has A+ decoration, but h...</td>\n",
              "      <td>3.0 star rating</td>\n",
              "      <td>[, , the, store, has, a, decoration, but, hone...</td>\n",
              "      <td>3.0</td>\n",
              "      <td>[store, decoration, honestly, coffee, good, co...</td>\n",
              "      <td>None</td>\n",
              "    </tr>\n",
              "    <tr>\n",
              "      <th>12</th>\n",
              "      <td>The Factory - Cafe With a Soul</td>\n",
              "      <td>11/17/2016 1 check-in Listed in 2016 - The Th...</td>\n",
              "      <td>3.0 star rating</td>\n",
              "      <td>[, , 1, checkin, listed, in, 2016, , the, thir...</td>\n",
              "      <td>3.0</td>\n",
              "      <td>[1, checkin, listed, 2016, time, charm, factor...</td>\n",
              "      <td>None</td>\n",
              "    </tr>\n",
              "    <tr>\n",
              "      <th>25</th>\n",
              "      <td>The Factory - Cafe With a Soul</td>\n",
              "      <td>12/2/2016 Okay, so after visiting my friends ...</td>\n",
              "      <td>1.0 star rating</td>\n",
              "      <td>[, , okay, so, after, visiting, my, friends, i...</td>\n",
              "      <td>1.0</td>\n",
              "      <td>[okay, visiting, friends, la, trying, mint, mo...</td>\n",
              "      <td>None</td>\n",
              "    </tr>\n",
              "    <tr>\n",
              "      <th>...</th>\n",
              "      <td>...</td>\n",
              "      <td>...</td>\n",
              "      <td>...</td>\n",
              "      <td>...</td>\n",
              "      <td>...</td>\n",
              "      <td>...</td>\n",
              "      <td>...</td>\n",
              "    </tr>\n",
              "    <tr>\n",
              "      <th>7582</th>\n",
              "      <td>The Steeping Room</td>\n",
              "      <td>8/21/2014 I should probably give this spot 4 ...</td>\n",
              "      <td>3.0 star rating</td>\n",
              "      <td>[, , i, should, probably, give, this, spot, 4,...</td>\n",
              "      <td>3.0</td>\n",
              "      <td>[probably, spot, 4, stars, main, dish, underwh...</td>\n",
              "      <td>None</td>\n",
              "    </tr>\n",
              "    <tr>\n",
              "      <th>7583</th>\n",
              "      <td>The Steeping Room</td>\n",
              "      <td>9/13/2015 It's a lovely little tea and pastry...</td>\n",
              "      <td>2.0 star rating</td>\n",
              "      <td>[, , its, a, lovely, little, tea, and, pastry,...</td>\n",
              "      <td>2.0</td>\n",
              "      <td>[lovely, little, tea, pastry, shop, service, c...</td>\n",
              "      <td>None</td>\n",
              "    </tr>\n",
              "    <tr>\n",
              "      <th>7590</th>\n",
              "      <td>The Steeping Room</td>\n",
              "      <td>1/15/2015 So today I tried this place. I have...</td>\n",
              "      <td>3.0 star rating</td>\n",
              "      <td>[, , so, today, i, tried, this, place, i, have...</td>\n",
              "      <td>3.0</td>\n",
              "      <td>[today, tried, place, austin, september, list,...</td>\n",
              "      <td>None</td>\n",
              "    </tr>\n",
              "    <tr>\n",
              "      <th>7600</th>\n",
              "      <td>The Steeping Room</td>\n",
              "      <td>5/10/2015 Great service with unimaginative an...</td>\n",
              "      <td>2.0 star rating</td>\n",
              "      <td>[, , great, service, with, unimaginative, and,...</td>\n",
              "      <td>2.0</td>\n",
              "      <td>[great, service, unimaginative, uneventful, fo...</td>\n",
              "      <td>None</td>\n",
              "    </tr>\n",
              "    <tr>\n",
              "      <th>7614</th>\n",
              "      <td>The Steeping Room</td>\n",
              "      <td>8/2/2015 The food is just average. The booths...</td>\n",
              "      <td>3.0 star rating</td>\n",
              "      <td>[, , the, food, is, just, average, the, booths...</td>\n",
              "      <td>3.0</td>\n",
              "      <td>[food, average, booths, didnt, feel, clean, wa...</td>\n",
              "      <td>None</td>\n",
              "    </tr>\n",
              "  </tbody>\n",
              "</table>\n",
              "<p>1476 rows × 7 columns</p>\n",
              "</div>"
            ],
            "text/plain": [
              "                     coffee_shop_name  ... word_count\n",
              "3     The Factory - Cafe With a Soul   ...       None\n",
              "8     The Factory - Cafe With a Soul   ...       None\n",
              "11    The Factory - Cafe With a Soul   ...       None\n",
              "12    The Factory - Cafe With a Soul   ...       None\n",
              "25    The Factory - Cafe With a Soul   ...       None\n",
              "...                               ...  ...        ...\n",
              "7582               The Steeping Room   ...       None\n",
              "7583               The Steeping Room   ...       None\n",
              "7590               The Steeping Room   ...       None\n",
              "7600               The Steeping Room   ...       None\n",
              "7614               The Steeping Room   ...       None\n",
              "\n",
              "[1476 rows x 7 columns]"
            ]
          },
          "metadata": {
            "tags": []
          },
          "execution_count": 94
        }
      ]
    },
    {
      "cell_type": "code",
      "metadata": {
        "colab": {
          "base_uri": "https://localhost:8080/"
        },
        "id": "PBYqGq91vY7u",
        "outputId": "9339a0f2-0fd5-45f5-a994-7268dd10ae50"
      },
      "source": [
        "# Object from Base Python\n",
        "from collections import Counter\n",
        "\n",
        "# The object `Counter` takes an iterable, but you can instaniate an empty one and update it. \n",
        "word_counts = Counter()\n",
        "\n",
        "# Update it based on a split of each of our documents\n",
        "good_reviews[\"word_count\"] = good_reviews['tokens2'].apply(lambda tokens: word_counts.update(tokens))\n",
        "\n",
        "# Print out the 10 most common words\n",
        "word_counts.most_common(10)"
      ],
      "execution_count": 95,
      "outputs": [
        {
          "output_type": "stream",
          "text": [
            "/usr/local/lib/python3.6/dist-packages/ipykernel_launcher.py:8: SettingWithCopyWarning: \n",
            "A value is trying to be set on a copy of a slice from a DataFrame.\n",
            "Try using .loc[row_indexer,col_indexer] = value instead\n",
            "\n",
            "See the caveats in the documentation: https://pandas.pydata.org/pandas-docs/stable/user_guide/indexing.html#returning-a-view-versus-a-copy\n",
            "  \n"
          ],
          "name": "stderr"
        },
        {
          "output_type": "execute_result",
          "data": {
            "text/plain": [
              "[('coffee', 8234),\n",
              " ('place', 4314),\n",
              " ('great', 3453),\n",
              " ('good', 3096),\n",
              " ('like', 2212),\n",
              " ('austin', 1969),\n",
              " ('1', 1793),\n",
              " ('love', 1725),\n",
              " ('checkin', 1605),\n",
              " ('friendly', 1462)]"
            ]
          },
          "metadata": {
            "tags": []
          },
          "execution_count": 95
        }
      ]
    },
    {
      "cell_type": "code",
      "metadata": {
        "colab": {
          "base_uri": "https://localhost:8080/"
        },
        "id": "TZjgDrGvvZye",
        "outputId": "ab9be0c3-6839-47cb-f5b9-24ed6eda9823"
      },
      "source": [
        "# Object from Base Python\n",
        "from collections import Counter\n",
        "\n",
        "# The object `Counter` takes an iterable, but you can instaniate an empty one and update it. \n",
        "word_counts = Counter()\n",
        "\n",
        "# Update it based on a split of each of our documents\n",
        "bad_reviews[\"word_count\"] = bad_reviews['tokens2'].apply(lambda tokens: word_counts.update(tokens))\n",
        "\n",
        "# Print out the 10 most common words\n",
        "word_counts.most_common(10)"
      ],
      "execution_count": 96,
      "outputs": [
        {
          "output_type": "stream",
          "text": [
            "/usr/local/lib/python3.6/dist-packages/ipykernel_launcher.py:8: SettingWithCopyWarning: \n",
            "A value is trying to be set on a copy of a slice from a DataFrame.\n",
            "Try using .loc[row_indexer,col_indexer] = value instead\n",
            "\n",
            "See the caveats in the documentation: https://pandas.pydata.org/pandas-docs/stable/user_guide/indexing.html#returning-a-view-versus-a-copy\n",
            "  \n"
          ],
          "name": "stderr"
        },
        {
          "output_type": "execute_result",
          "data": {
            "text/plain": [
              "[('coffee', 2119),\n",
              " ('place', 1112),\n",
              " ('good', 877),\n",
              " ('like', 876),\n",
              " ('food', 484),\n",
              " ('time', 478),\n",
              " ('great', 466),\n",
              " ('dont', 449),\n",
              " ('service', 445),\n",
              " ('im', 445)]"
            ]
          },
          "metadata": {
            "tags": []
          },
          "execution_count": 96
        }
      ]
    },
    {
      "cell_type": "markdown",
      "metadata": {
        "id": "zRIhUJ3nX624"
      },
      "source": [
        "## How do we want to analyze these coffee shop tokens? \n",
        "\n",
        "- Overall Word / Token Count\n",
        "- View Counts by Rating \n",
        "- *Hint:* a 'bad' coffee shops has a rating betweeen 1 & 3 based on the distribution of ratings. A 'good' coffee shop is a 4 or 5. "
      ]
    },
    {
      "cell_type": "code",
      "metadata": {
        "id": "w7FaHtRjX624"
      },
      "source": [
        ""
      ],
      "execution_count": null,
      "outputs": []
    },
    {
      "cell_type": "markdown",
      "metadata": {
        "id": "ehpklebZX624"
      },
      "source": [
        "## Can visualize the words with the greatest difference in counts between 'good' & 'bad'?\n",
        "\n",
        "Couple Notes: \n",
        "- Rel. freq. instead of absolute counts b/c of different numbers of reviews\n",
        "- Only look at the top 5-10 words with the greatest differences\n"
      ]
    },
    {
      "cell_type": "code",
      "metadata": {
        "id": "JVzl_gBYX624"
      },
      "source": [
        ""
      ],
      "execution_count": null,
      "outputs": []
    },
    {
      "cell_type": "markdown",
      "metadata": {
        "id": "1dCb1q8XphcP",
        "toc-hr-collapsed": true
      },
      "source": [
        "## Stretch Goals\n",
        "\n",
        "* Analyze another corpus of documents - such as Indeed.com job listings ;).\n",
        "* Play with the Spacy API to\n",
        " - Extract Named Entities\n",
        " - Extracting 'noun chunks'\n",
        " - Attempt Document Classification with just Spacy\n",
        " - *Note:* This [course](https://course.spacy.io/) will be of interesting in helping you with these stretch goals. \n",
        "* Try to build a plotly dash app with your text data \n",
        "\n"
      ]
    }
  ]
}